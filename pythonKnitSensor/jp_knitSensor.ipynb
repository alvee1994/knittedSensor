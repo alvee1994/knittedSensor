{
 "cells": [
  {
   "cell_type": "code",
   "execution_count": 20,
   "metadata": {},
   "outputs": [],
   "source": [
    "from bluepy import btle\n",
    "from bluepy.btle import Scanner, DefaultDelegate\n",
    "import binascii\n",
    "from time import sleep\n",
    "import numpy as np\n",
    "import os"
   ]
  },
  {
   "cell_type": "code",
   "execution_count": null,
   "metadata": {},
   "outputs": [],
   "source": [
    "class BLEDelegate(DefaultDelegate):\n",
    "    def __init__(self, params):\n",
    "        DefaultDelegate.__init__(self)\n",
    "        self.val = [0,1,2,3]\n",
    "\n",
    "    def handleNotification(self, cHandle, data):\n",
    "        decimalValue = (binascii.b2a_hex(data))\n",
    "        splitted = [decimalValue[i:i+4] for i in range(0, len(decimalValue),4)]\n",
    "        self.val = np.array(list(map(lambda x: int((x),16)/1000, splitted)))\n",
    "        idx = np.nonzero(self.val)\n",
    "        self.val = self.val[idx]\n",
    "        print(self.val)\n",
    "\n",
    "        \n",
    "p = btle.Peripheral('28:a7:3c:7a:c6:8c')\n",
    "p.withDelegate(BLEDelegate(p))\n",
    "\n",
    "for i in p.getServices():\n",
    "    print(i.uuid)\n",
    "    \n",
    "print(\"connected\")\n",
    "svc = p.getServiceByUUID('19b10010-e8f2-537e-4f6c-d104768a1214')\n",
    "char = [i for i in svc.getCharacteristics() if (i.uuid == '19B10012-E8F2-537E-4F6C-D104768A1214')]\n",
    "handle = char[0].valHandle\n",
    "p.writeCharacteristic(handle + 1, b'\\x01\\x00')\n",
    "\n",
    "while True:\n",
    "    if p.waitForNotifications(1.0):\n",
    "        continue"
   ]
  },
  {
   "cell_type": "code",
   "execution_count": 19,
   "metadata": {},
   "outputs": [],
   "source": [
    "import xml.etree.ElementTree as ET\n",
    "import csv\n",
    "\n",
    "root = ET.parse('test.xml').getroot()\n",
    "\n",
    "with open('testData.csv','w') as csv_file:\n",
    "    writer = csv.writer(csv_file, delimiter=',')\n",
    "    writer.writerow('A1, A2, A3, A4')\n",
    "    for child in root:\n",
    "        try:\n",
    "            value = child[0].attrib['value']\n",
    "            splitted = [int(value[i:i+4], 16) for i in range(0, len(value),4)]\n",
    "            writer.writerow(splitted)\n",
    "        except:\n",
    "            pass"
   ]
  },
  {
   "cell_type": "code",
   "execution_count": 25,
   "metadata": {},
   "outputs": [
    {
     "name": "stdout",
     "output_type": "stream",
     "text": [
      "0.00457763671875\n"
     ]
    }
   ],
   "source": [
    "from numpy import interp\n",
    "pos = interp(32780,[0, 65536],[-12.5,12.5])\n",
    "print(pos)"
   ]
  },
  {
   "cell_type": "code",
   "execution_count": 29,
   "metadata": {},
   "outputs": [
    {
     "data": {
      "text/plain": [
       "[1, 2, 3]"
      ]
     },
     "execution_count": 29,
     "metadata": {},
     "output_type": "execute_result"
    }
   ],
   "source": [
    "a = [1,2, 3, 4, 5]\n",
    "a[:3]"
   ]
  },
  {
   "cell_type": "code",
   "execution_count": 26,
   "metadata": {},
   "outputs": [
    {
     "data": {
      "text/plain": [
       "array([1, 2, 3, 4, 5, 6])"
      ]
     },
     "execution_count": 26,
     "metadata": {},
     "output_type": "execute_result"
    }
   ],
   "source": [
    "np.append([1,2,3], [4, 5,6])"
   ]
  },
  {
   "cell_type": "code",
   "execution_count": 43,
   "metadata": {},
   "outputs": [
    {
     "ename": "IndentationError",
     "evalue": "expected an indented block (<ipython-input-43-0dafc74466f2>, line 19)",
     "output_type": "error",
     "traceback": [
      "\u001b[0;36m  File \u001b[0;32m\"<ipython-input-43-0dafc74466f2>\"\u001b[0;36m, line \u001b[0;32m19\u001b[0m\n\u001b[0;31m    if __name__ == '__main__':\u001b[0m\n\u001b[0m     ^\u001b[0m\n\u001b[0;31mIndentationError\u001b[0m\u001b[0;31m:\u001b[0m expected an indented block\n"
     ]
    }
   ],
   "source": [
    "import csv\n",
    "import sys\n",
    "\n",
    "def convert(filename):\n",
    "    f = open(filename, \"r\")\n",
    "    data = f.readlines()\n",
    "    \n",
    "    with open(filename[:-4]+'.csv','w') as csv_file:\n",
    "        writer = csv.writer(csv_file, delimiter=',')\n",
    "        writer.writerow('A1, A2, A3, A4')\n",
    "        for data in data:\n",
    "            if 'Read Value' in data:\n",
    "                time, _, _, sensor = data.split(',')\n",
    "                sensor = sensor.split(' ')[2][2:].split('-')\n",
    "                sensor = ''.join(sensor)\n",
    "                splitted = [int(sensor[i:i+4], 16)/1000 for i in range(0, len(sensor),4)]\n",
    "                \n",
    "                writer.writerow(splitted)\n",
    "                print(time, splitted)\n",
    "                    \n",
    "def usage():\n",
    "    print('expecting one argument: name of text file to read')\n",
    "    sys.exit()\n",
    "    \n",
    "if __name__ == '__main__':\n",
    "    if len(sys.argv) != 2:\n",
    "        usage()\n",
    "    else:\n",
    "        convert(sys.argv[1])"
   ]
  },
  {
   "cell_type": "code",
   "execution_count": 37,
   "metadata": {},
   "outputs": [
    {
     "data": {
      "text/plain": [
       "1903"
      ]
     },
     "execution_count": 37,
     "metadata": {},
     "output_type": "execute_result"
    }
   ],
   "source": [
    "int('076F', 16)"
   ]
  },
  {
   "cell_type": "code",
   "execution_count": 39,
   "metadata": {},
   "outputs": [
    {
     "name": "stdout",
     "output_type": "stream",
     "text": [
      "['Sam_knownPeripherals.yaml', 'knownPeripherals.yaml', 'liveplotData.py', 'jp_knitSensor.ipynb', 'text-8C328739A674-1.txt', '__pycache__', '__init__.py', '.ipynb_checkpoints', 'knitSensorNotif.py']\n"
     ]
    }
   ],
   "source": [
    "import os\n",
    "print(os.listdir())"
   ]
  },
  {
   "cell_type": "code",
   "execution_count": 64,
   "metadata": {},
   "outputs": [
    {
     "data": {
      "text/plain": [
       "['h', 1, 2, 3]"
      ]
     },
     "execution_count": 64,
     "metadata": {},
     "output_type": "execute_result"
    }
   ],
   "source": [
    "import numpy as np\n",
    "data = np.array([1, 2, 3])\n",
    "ndata = list(data)\n",
    "ndata.insert(0, 'h')\n",
    "ndata"
   ]
  },
  {
   "cell_type": "code",
   "execution_count": 77,
   "metadata": {},
   "outputs": [
    {
     "name": "stdout",
     "output_type": "stream",
     "text": [
      "0740   1.856\n",
      "0CDA   3.29\n",
      "0721   1.825\n",
      "0CD9   3.289\n",
      "0000   0.0\n"
     ]
    }
   ],
   "source": [
    "data = '0x07-40-0C-DA-07-21-0C-D9-00-00'\n",
    "data = data[2:].split('-')\n",
    "data = ''.join(data)\n",
    "\n",
    "for i in range(0, len(data), 4):\n",
    "    _hex = data[i:i+4]\n",
    "    print(_hex, ' ', int(_hex, 16)/1000)"
   ]
  },
  {
   "cell_type": "code",
   "execution_count": 72,
   "metadata": {},
   "outputs": [
    {
     "data": {
      "text/plain": [
       "20"
      ]
     },
     "execution_count": 72,
     "metadata": {},
     "output_type": "execute_result"
    }
   ],
   "source": []
  },
  {
   "cell_type": "code",
   "execution_count": null,
   "metadata": {},
   "outputs": [],
   "source": []
  }
 ],
 "metadata": {
  "kernelspec": {
   "display_name": "Python 3",
   "language": "python",
   "name": "python3"
  },
  "language_info": {
   "codemirror_mode": {
    "name": "ipython",
    "version": 3
   },
   "file_extension": ".py",
   "mimetype": "text/x-python",
   "name": "python",
   "nbconvert_exporter": "python",
   "pygments_lexer": "ipython3",
   "version": "3.6.9"
  }
 },
 "nbformat": 4,
 "nbformat_minor": 2
}
