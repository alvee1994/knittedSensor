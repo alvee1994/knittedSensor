{
 "cells": [
  {
   "cell_type": "code",
   "execution_count": null,
   "metadata": {},
   "outputs": [],
   "source": [
    "from bluepy import btle\n",
    "from bluepy.btle import Scanner, DefaultDelegate\n",
    "import binascii\n",
    "from time import sleep\n",
    "import numpy as np"
   ]
  },
  {
   "cell_type": "code",
   "execution_count": null,
   "metadata": {},
   "outputs": [],
   "source": [
    "class BLEDelegate(DefaultDelegate):\n",
    "    def __init__(self, params):\n",
    "        DefaultDelegate.__init__(self)\n",
    "        self.val = [0,1,2,3]\n",
    "\n",
    "    def handleNotification(self, cHandle, data):\n",
    "        decimalValue = (binascii.b2a_hex(data))\n",
    "        splitted = [decimalValue[i:i+4] for i in range(0, len(decimalValue),4)]\n",
    "        self.val = np.array(list(map(lambda x: int((x),16)/1000, splitted)))\n",
    "        idx = np.nonzero(self.val)\n",
    "        self.val = self.val[idx]\n",
    "        print(self.val)\n",
    "\n",
    "        \n",
    "p = btle.Peripheral('28:a7:3c:7a:c6:8c')\n",
    "p.withDelegate(BLEDelegate(p))\n",
    "\n",
    "for i in p.getServices():\n",
    "    print(i.uuid)\n",
    "    \n",
    "print(\"connected\")\n",
    "svc = p.getServiceByUUID('19b10010-e8f2-537e-4f6c-d104768a1214')\n",
    "char = [i for i in svc.getCharacteristics() if (i.uuid == '19B10012-E8F2-537E-4F6C-D104768A1214')]\n",
    "handle = char[0].valHandle\n",
    "p.writeCharacteristic(handle + 1, b'\\x01\\x00')\n",
    "\n",
    "while True:\n",
    "    if p.waitForNotifications(1.0):\n",
    "        continue"
   ]
  }
 ],
 "metadata": {
  "kernelspec": {
   "display_name": "Python 3",
   "language": "python",
   "name": "python3"
  },
  "language_info": {
   "codemirror_mode": {
    "name": "ipython",
    "version": 3
   },
   "file_extension": ".py",
   "mimetype": "text/x-python",
   "name": "python",
   "nbconvert_exporter": "python",
   "pygments_lexer": "ipython3",
   "version": "3.6.9"
  }
 },
 "nbformat": 4,
 "nbformat_minor": 2
}
